{
 "cells": [
  {
   "cell_type": "code",
   "execution_count": 204,
   "id": "adfbaaf2-6b8a-4b72-8eb4-564d8de22406",
   "metadata": {},
   "outputs": [],
   "source": [
    "import random\n",
    "import cn2an\n",
    "def generate_index() -> int:\n",
    "    return random.randint(1, 60)\n",
    "def random_element(list) -> str:\n",
    "    return list[random.randint(0, len(list) - 1)]\n",
    "def unicode():\n",
    "    val = random.randint(0x4e00, 0x9fbf)\n",
    "    return chr(val)\n",
    "def gbk2312():\n",
    "    head = random.randint(0xb0, 0xf7)\n",
    "    body = random.randint(0xa1, 0xfe)\n",
    "    val = f'{head:x} {body:x}'\n",
    "    str = bytes.fromhex(val).decode('gb2312')\n",
    "    return str"
   ]
  },
  {
   "cell_type": "code",
   "execution_count": 205,
   "id": "07dd32b9",
   "metadata": {},
   "outputs": [],
   "source": [
    "weight_decorator = [\n",
    "    [\"%0%\", 12],\n",
    "    [\"请%0%\", 4],\n",
    "    [\"帮我%0%\", 4],\n",
    "    [\"给我%0%\", 4]\n",
    "]\n",
    "template_decorator = []\n",
    "for [template, weight] in weight_decorator:\n",
    "    template_decorator.extend([template] * weight)\n",
    "def decorate_template(template) -> str:\n",
    "    return random_element(template_decorator).replace(\"%0%\", template)"
   ]
  },
  {
   "cell_type": "code",
   "execution_count": 206,
   "id": "199825f3-71fb-4377-b9b4-b247197f4fb8",
   "metadata": {},
   "outputs": [],
   "source": [
    "template_click = [\n",
    "    \"点击第%0%个\",\n",
    "    \"查看第%0%个\",\n",
    "    \"进入第%0%个\",\n",
    "    \"第%0%个点击\",\n",
    "    \"按一下第%0%个\",\n",
    "    \"打开第%0%个\",\n",
    "    \"看下第%0%个\",\n",
    "    \"查看第%0%个\",\n",
    "]\n",
    "def generate_click() -> [str, str]:\n",
    "    vindex = cn2an.an2cn(generate_index())\n",
    "    output = '{\"command\":\"click\",\"vindex\":\"%s\",\"mode\":0}' % (vindex)\n",
    "    template = random_element(template_click)\n",
    "    input = decorate_template(template.replace(\"%0%\", '%s' % (vindex)))\n",
    "    return [input, output]"
   ]
  },
  {
   "cell_type": "code",
   "execution_count": 207,
   "id": "4b2d7a40",
   "metadata": {},
   "outputs": [],
   "source": [
    "template_swipe = [\n",
    "    \"第%0%个%1%滑\",\n",
    "    \"向%1%滑动第%0%个\",\n",
    "    \"%1%滑第%0%个\",\n",
    "    \"把第%0%个向%1%滑\",\n",
    "    \"第%0%个往%1%\",\n",
    "    \"向%1%移动第%0%个\"\n",
    "]\n",
    "direction_swipe = [\n",
    "    \"左\",\n",
    "    \"右\",\n",
    "    \"上\",\n",
    "    \"下\"\n",
    "]\n",
    "def generate_swipe() -> [str, str]:\n",
    "    vindex = cn2an.an2cn(generate_index())\n",
    "    direction = random_element(direction_swipe)\n",
    "    output = '{\"command\":\"swipe\",\"vindex\":\"%s\",\"direction\":\"%s\"}' % (vindex, direction)\n",
    "    template = random_element(template_swipe)\n",
    "    input = decorate_template(template.replace(\"%0%\", '%s' % (vindex)).replace(\"%1%\", direction))\n",
    "    return [input, output]"
   ]
  },
  {
   "cell_type": "code",
   "execution_count": 208,
   "id": "5fd25099",
   "metadata": {},
   "outputs": [],
   "source": [
    "import pandas as pd\n",
    "df = pd.read_csv(\"./data/train_split.csv\")\n",
    "available_text = df['Utterance']"
   ]
  },
  {
   "cell_type": "code",
   "execution_count": 209,
   "id": "e2e35a66",
   "metadata": {},
   "outputs": [],
   "source": [
    "template_input_text0 = [\n",
    "    \"向第%0%个中输入%1%\",\n",
    "    \"输入%1%到第%0%个\",\n",
    "    \"向第%0%个尾部添加%1%\",\n",
    "    \"添加%1%到第%0%个\",\n",
    "    \"向第%0%个尾部输入%1%\"\n",
    "]\n",
    "def generate_input_text_0() -> [str, str]:\n",
    "    vindex = cn2an.an2cn(generate_index())\n",
    "    text = random_element(available_text).replace(\" \", \"\")[0: 20]\n",
    "    output = '{\"command\":\"input_text\",\"vindex\":\"%s\",\"text\":\"%s\",\"mode\":0}' % (vindex, text)\n",
    "    template = random_element(template_input_text0)\n",
    "    input = decorate_template(template.replace(\"%0%\", '%s' % (vindex)).replace(\"%1%\", text))\n",
    "    return [input, output]"
   ]
  },
  {
   "cell_type": "code",
   "execution_count": 210,
   "id": "26e0d907",
   "metadata": {},
   "outputs": [],
   "source": [
    "train_set = []\n",
    "for i in range(0, 5000):\n",
    "    train_set.append(generate_click())\n",
    "for i in range(0, 5000):\n",
    "    train_set.append(generate_swipe())\n",
    "for i in range(0, 10000):\n",
    "    train_set.append(generate_input_text_0())\n",
    "random.shuffle(train_set)"
   ]
  },
  {
   "cell_type": "code",
   "execution_count": 211,
   "id": "2bfd3f7a",
   "metadata": {},
   "outputs": [],
   "source": [
    "f = open(\"./data/train.txt\", \"w+\")\n",
    "for line in train_set:\n",
    "    f.write(\"%s %s\\n\" % (line[0], line[1]))\n",
    "f.close()"
   ]
  }
 ],
 "metadata": {
  "kernelspec": {
   "display_name": "Python 3 (ipykernel)",
   "language": "python",
   "name": "python3"
  },
  "language_info": {
   "codemirror_mode": {
    "name": "ipython",
    "version": 3
   },
   "file_extension": ".py",
   "mimetype": "text/x-python",
   "name": "python",
   "nbconvert_exporter": "python",
   "pygments_lexer": "ipython3",
   "version": "3.8.10"
  }
 },
 "nbformat": 4,
 "nbformat_minor": 5
}
